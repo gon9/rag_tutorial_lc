{
 "cells": [
  {
   "cell_type": "code",
   "execution_count": 3,
   "metadata": {},
   "outputs": [],
   "source": [
    "import os \n",
    "from dotenv import load_dotenv\n"
   ]
  },
  {
   "cell_type": "code",
   "execution_count": 4,
   "metadata": {},
   "outputs": [],
   "source": [
    "# .envから環境変数を読み込む\n",
    "load_dotenv()\n",
    "OPENAI_API_KEY = os.getenv('OPENAI_API_KEY')\n",
    "if not OPENAI_API_KEY:\n",
    "    raise ValueError(\"OpenAI APIキーが設定されていません。環境変数 'OPENAI_API_KEY' を設定してください。\")\n"
   ]
  },
  {
   "cell_type": "code",
   "execution_count": 10,
   "metadata": {},
   "outputs": [],
   "source": [
    "from langchain_openai  import OpenAIEmbeddings\n",
    "\n",
    "from src.extract_text import extract_text_from_pdf\n",
    "from src.split_text import split_text\n",
    "from src.create_embeddings import create_vectorstore\n",
    "\n",
    "# パス設定\n",
    "#SCRIPT_DIR = os.path.dirname(os.path.abspath(__file__))\n",
    "# パス設定(notebook)\n",
    "SCRIPT_DIR = os.path.dirname(os.path.abspath(\"__file__\"))\n",
    "\n",
    "PDF_PATH = os.path.join(SCRIPT_DIR, \"..\", \"data\", \"aqua_202005.pdf\")\n",
    "VECTORSTORE_PATH = os.path.join(SCRIPT_DIR, \"..\", \"data\", \"faiss_index\")\n",
    "\n",
    "\n",
    "embeddings = OpenAIEmbeddings(openai_api_key=OPENAI_API_KEY)\n",
    "pdf_text = extract_text_from_pdf(PDF_PATH, start_page=391, end_page=469)\n",
    "texts = split_text(pdf_text)\n",
    "\n",
    "vectorstore = create_vectorstore(\n",
    "    texts, OPENAI_API_KEY\n",
    "    )\n"
   ]
  },
  {
   "cell_type": "code",
   "execution_count": 11,
   "metadata": {},
   "outputs": [
    {
     "name": "stdout",
     "output_type": "stream",
     "text": [
      "len= 4\n",
      "metadata: {}\n",
      "390 7-1. まず初めに\n",
      "水没したときは\n",
      "万一、車両が水没したときは、落ち着いて次のように対処してください。\n",
      "●\n",
      "まずシートベルトをはずしてください。\n",
      "●\n",
      "ドアを開けることができる場合、ドアを開けて車外に出てください。\n",
      "●\n",
      "ドアを開けることができない場合、パワーウインドウスイッチでドア\n",
      "ガラスを開けて窓から車外に出てください。\n",
      "●\n",
      "パワーウインドウスイッチでドアガラスが開けられない場合、落ち着\n"
     ]
    }
   ],
   "source": [
    "retriever = vectorstore.as_retriever()\n",
    "\n",
    "query = \"車が水没しました\"\n",
    "\n",
    "context_docs = retriever.invoke(query)\n",
    "print(f\"len= {len(context_docs)}\")\n",
    "\n",
    "first_doc = context_docs[0]\n",
    "print(f\"metadata: {first_doc.metadata}\")\n",
    "\n",
    "print(first_doc.page_content)"
   ]
  },
  {
   "cell_type": "code",
   "execution_count": 15,
   "metadata": {},
   "outputs": [],
   "source": [
    "from langchain_core.prompts import ChatPromptTemplate\n",
    "from langchain_openai import ChatOpenAI\n",
    "\n",
    "from langchain_core.output_parsers import StrOutputParser\n",
    "from langchain_core.runnables import RunnablePassthrough"
   ]
  },
  {
   "cell_type": "code",
   "execution_count": 17,
   "metadata": {},
   "outputs": [
    {
     "name": "stdout",
     "output_type": "stream",
     "text": [
      "車が水没した場合は、以下の手順に従って対処してください。\n",
      "\n",
      "1. **落ち着いて行動する**：まずは冷静になり、状況を確認してください。\n",
      "2. **シートベルトを外す**：安全のために、まずシートベルトを外してください。\n",
      "3. **ドアを開ける**：可能であれば、ドアを開けて車外に出てください。\n",
      "4. **ドアが開けられない場合**：ドアが開かない場合は、パワーウインドウスイッチを使って窓を開け、そこから車外に出ることを試みてください。\n",
      "5. **パワーウインドウが動かない場合**：万が一、パワーウインドウが動かない場合は、冷静に次の行動を考え、他の出口を探してください。\n",
      "\n",
      "安全が最優先ですので、焦らずに行動してください。\n"
     ]
    }
   ],
   "source": [
    "prompt = ChatPromptTemplate.from_template('''\\\n",
    "    以下の質問に対して、\n",
    "    {context}をもとに回答してください。\\n\\n\n",
    "    質問: {question}\\n回答:\n",
    "    ''')\n",
    "                                        \n",
    "\n",
    "model = ChatOpenAI(\n",
    "    openai_api_key=OPENAI_API_KEY,\n",
    "    model_name=\"gpt-4o-mini\",\n",
    "    temperature=0.7\n",
    ")\n",
    "\n",
    "chain = (\n",
    "    {\"context\": retriever, \"question\": RunnablePassthrough()}\n",
    "    | prompt\n",
    "    | model\n",
    "    | StrOutputParser()\n",
    ")\n",
    "\n",
    "output = chain.invoke(query)\n",
    "print(output)\n",
    "\n",
    "\n"
   ]
  },
  {
   "cell_type": "code",
   "execution_count": null,
   "metadata": {},
   "outputs": [],
   "source": []
  }
 ],
 "metadata": {
  "kernelspec": {
   "display_name": ".venv",
   "language": "python",
   "name": "python3"
  },
  "language_info": {
   "codemirror_mode": {
    "name": "ipython",
    "version": 3
   },
   "file_extension": ".py",
   "mimetype": "text/x-python",
   "name": "python",
   "nbconvert_exporter": "python",
   "pygments_lexer": "ipython3",
   "version": "3.13.2"
  }
 },
 "nbformat": 4,
 "nbformat_minor": 2
}
