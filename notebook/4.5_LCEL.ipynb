{
 "cells": [
  {
   "cell_type": "markdown",
   "metadata": {},
   "source": [
    "# LCEL\n",
    "- LCEL(LangChain Express Language)\n",
    "- 処理を連鎖でつなぎたいときに使う\n",
    "- 処理を連鎖でつなぐときには、処理を関数にして、その関数を連鎖でつなぐ\n",
    "- 処理を関数にするときには、関数の引数に処理を書く"
   ]
  },
  {
   "cell_type": "code",
   "execution_count": 3,
   "metadata": {},
   "outputs": [],
   "source": [
    "import os\n",
    "from dotenv import load_dotenv\n",
    "\n",
    "\n",
    "# .envから環境変数を読み込む\n",
    "load_dotenv()\n",
    "OPENAI_API_KEY = os.getenv('OPENAI_API_KEY')\n",
    "if not OPENAI_API_KEY:\n",
    "    raise ValueError(\"OpenAI APIキーが設定されていません。環境変数 'OPENAI_API_KEY' を設定してください。\")\n"
   ]
  },
  {
   "cell_type": "code",
   "execution_count": 4,
   "metadata": {},
   "outputs": [],
   "source": [
    "from langchain_core.prompts import ChatPromptTemplate\n",
    "from langchain_openai import ChatOpenAI\n",
    "\n",
    "prompt = ChatPromptTemplate.from_messages(\n",
    "    [\n",
    "        (\"system\", \"ユーザが入力した料理のレシピを考えてください。\"),\n",
    "        (\"human\", \"{dish}\")\n",
    "    ]\n",
    ")\n",
    "\n",
    "model = ChatOpenAI(\n",
    "    api_key=OPENAI_API_KEY,\n",
    "    model=\"gpt-4o-mini\",\n",
    "    temperature=0.7\n",
    ")\n"
   ]
  },
  {
   "cell_type": "code",
   "execution_count": 5,
   "metadata": {},
   "outputs": [
    {
     "name": "stdout",
     "output_type": "stream",
     "text": [
      "content='カレーのレシピを考えてみました！以下は基本的なチキンカレーのレシピです。\\n\\n### 材料（4人分）\\n- 鶏もも肉：500g（大きめの一口大にカット）\\n- 玉ねぎ：2個（みじん切り）\\n- にんにく：2片（みじん切り）\\n- 生姜：1片（みじん切り）\\n- トマト：2個（角切り）\\n- カレーパウダー：大さじ2\\n- ココナッツミルク：200ml（お好みで）\\n- サラダ油：大さじ2\\n- 塩：適量\\n- 黒胡椒：適量\\n- 水：400ml\\n- パクチー：適量（飾り用）\\n\\n### 作り方\\n1. **鶏肉の下ごしらえ**: 鶏もも肉に塩と黒胡椒をふりかけて下味をつけておきます。\\n\\n2. **炒める**: 大きめの鍋にサラダ油を熱し、みじん切りにした玉ねぎを入れて中火で炒めます。玉ねぎが透明になるまで炒めます。\\n\\n3. **香味野菜を加える**: にんにくと生姜を加え、香りが立つまでさらに炒めます。\\n\\n4. **鶏肉を加える**: 鶏肉を鍋に加え、表面が白くなるまで炒めます。\\n\\n5. **トマトとスパイスを加える**: トマトを加え、全体がよく混ざったらカレーパウダーを加えてさらに炒めます。\\n\\n6. **煮る**: 水を加え、沸騰したら弱火にして蓋をし、20分ほど煮込みます。途中でアクが出たら取り除きます。\\n\\n7. **仕上げ**: ココナッツミルクを加えて、さらに5分ほど煮込み、塩で味を調えます。\\n\\n8. **盛り付け**: お皿に盛り付け、パクチーを飾って完成です！\\n\\n### サーブの提案\\nご飯やナンと一緒にサーブすると美味しくいただけます。お好みでヨーグルトやピクルスを添えるのもおすすめです。\\n\\nぜひお試しください！' additional_kwargs={'refusal': None} response_metadata={'token_usage': {'completion_tokens': 574, 'prompt_tokens': 28, 'total_tokens': 602, 'completion_tokens_details': {'accepted_prediction_tokens': 0, 'audio_tokens': 0, 'reasoning_tokens': 0, 'rejected_prediction_tokens': 0}, 'prompt_tokens_details': {'audio_tokens': 0, 'cached_tokens': 0}}, 'model_name': 'gpt-4o-mini-2024-07-18', 'system_fingerprint': 'fp_bd83329f63', 'finish_reason': 'stop', 'logprobs': None} id='run-a4c5f012-138b-4416-8df6-42d2ce2e9682-0' usage_metadata={'input_tokens': 28, 'output_tokens': 574, 'total_tokens': 602, 'input_token_details': {'audio': 0, 'cache_read': 0}, 'output_token_details': {'audio': 0, 'reasoning': 0}}\n"
     ]
    }
   ],
   "source": [
    "chain = prompt | model\n",
    "ai_message = chain.invoke({\"dish\": \"カレー\"})\n",
    "print(ai_message)"
   ]
  },
  {
   "cell_type": "code",
   "execution_count": 6,
   "metadata": {},
   "outputs": [
    {
     "name": "stdout",
     "output_type": "stream",
     "text": [
      "カレーのレシピを考えてみました！以下は基本的なチキンカレーのレシピです。\n",
      "\n",
      "### 材料（4人分）\n",
      "- 鶏もも肉：500g（大きめの一口大にカット）\n",
      "- 玉ねぎ：2個（みじん切り）\n",
      "- にんにく：2片（みじん切り）\n",
      "- 生姜：1片（みじん切り）\n",
      "- トマト：2個（角切り）\n",
      "- カレーパウダー：大さじ2\n",
      "- ココナッツミルク：200ml（お好みで）\n",
      "- サラダ油：大さじ2\n",
      "- 塩：適量\n",
      "- 黒胡椒：適量\n",
      "- 水：400ml\n",
      "- パクチー：適量（飾り用）\n",
      "\n",
      "### 作り方\n",
      "1. **鶏肉の下ごしらえ**: 鶏もも肉に塩と黒胡椒をふりかけて下味をつけておきます。\n",
      "\n",
      "2. **炒める**: 大きめの鍋にサラダ油を熱し、みじん切りにした玉ねぎを入れて中火で炒めます。玉ねぎが透明になるまで炒めます。\n",
      "\n",
      "3. **香味野菜を加える**: にんにくと生姜を加え、香りが立つまでさらに炒めます。\n",
      "\n",
      "4. **鶏肉を加える**: 鶏肉を鍋に加え、表面が白くなるまで炒めます。\n",
      "\n",
      "5. **トマトとスパイスを加える**: トマトを加え、全体がよく混ざったらカレーパウダーを加えてさらに炒めます。\n",
      "\n",
      "6. **煮る**: 水を加え、沸騰したら弱火にして蓋をし、20分ほど煮込みます。途中でアクが出たら取り除きます。\n",
      "\n",
      "7. **仕上げ**: ココナッツミルクを加えて、さらに5分ほど煮込み、塩で味を調えます。\n",
      "\n",
      "8. **盛り付け**: お皿に盛り付け、パクチーを飾って完成です！\n",
      "\n",
      "### サーブの提案\n",
      "ご飯やナンと一緒にサーブすると美味しくいただけます。お好みでヨーグルトやピクルスを添えるのもおすすめです。\n",
      "\n",
      "ぜひお試しください！\n"
     ]
    }
   ],
   "source": [
    "print(ai_message.content)"
   ]
  },
  {
   "cell_type": "code",
   "execution_count": 7,
   "metadata": {},
   "outputs": [
    {
     "name": "stdout",
     "output_type": "stream",
     "text": [
      "カレーのレシピをご紹介します。ここでは、基本的なチキンカレーのレシピを考えました。\n",
      "\n",
      "### チキンカレーのレシピ\n",
      "\n",
      "#### 材料（4人分）\n",
      "- 鶏もも肉：400g（食べやすい大きさにカット）\n",
      "- 玉ねぎ：2個（みじん切り）\n",
      "- にんじん：1本（薄切り）\n",
      "- じゃがいも：2個（角切り）\n",
      "- にんにく：2片（みじん切り）\n",
      "- 生姜：1片（みじん切り）\n",
      "- カレールウ：1箱（またはカレー粉適量）\n",
      "- トマト缶：1缶（400g）\n",
      "- 水：500ml\n",
      "- 塩：適量\n",
      "- こしょう：適量\n",
      "- サラダ油：大さじ2\n",
      "- パセリ：適量（飾り用）\n",
      "\n",
      "#### 作り方\n",
      "1. **下準備**:\n",
      "   - 鶏もも肉は食べやすい大きさにカットし、塩とこしょうを振って下味をつけておく。\n",
      "   - 玉ねぎ、にんじん、じゃがいもはそれぞれ切っておく。\n",
      "\n",
      "2. **炒める**:\n",
      "   - 鍋にサラダ油を熱し、みじん切りにしたにんにくと生姜を入れて香りが立つまで炒める。\n",
      "   - 次に、玉ねぎを加えて透明になるまで炒める。\n",
      "\n",
      "3. **鶏肉を加える**:\n",
      "   - 鶏もも肉を鍋に入れ、表面が白くなるまで炒める。\n",
      "\n",
      "4. **野菜を加える**:\n",
      "   - にんじんとじゃがいもを加え、全体を軽く炒める。\n",
      "\n",
      "5. **煮込む**:\n",
      "   - トマト缶と水を加え、沸騰させる。アクが出たら取り除く。\n",
      "   - 蓋をして、中火で約15分煮込む。\n",
      "\n",
      "6. **ルウを加える**:\n",
      "   - カレールウを加え、全体がよく混ざるまでかき混ぜる。\n",
      "   - 再び蓋をして、弱火でさらに10分煮込む。\n",
      "\n",
      "7. **味を調える**:\n",
      "   - 塩やこしょうで味を調え、必要に応じて水分を調整する。\n",
      "\n",
      "8. **盛り付け**:\n",
      "   - お皿に盛り付け、パセリを振りかけて完成！\n",
      "\n",
      "#### 提供\n",
      "ご飯やナンと一緒にお楽しみください。好みに応じて、辛さを調整したり、他の野菜や豆を加えてアレンジするのもおすすめです！\n"
     ]
    }
   ],
   "source": [
    "from langchain_core.output_parsers import StrOutputParser\n",
    "\n",
    "chain = prompt | model | StrOutputParser()\n",
    "ai_message = chain.invoke({\"dish\": \"カレー\"})\n",
    "print(ai_message)\n"
   ]
  },
  {
   "cell_type": "markdown",
   "metadata": {},
   "source": [
    "## PydanticOutputParserを使う\n",
    "- さっきのchainは基礎\n",
    "- LLMにレシピを生成させてRecipiクラスのインスタンスに変換する処理"
   ]
  },
  {
   "cell_type": "code",
   "execution_count": 8,
   "metadata": {},
   "outputs": [],
   "source": [
    "# LLMにレシピを生成させてRecipiクラスのインスタンスに変換する処理\n",
    "from langchain_core.output_parsers import PydanticOutputParser\n",
    "from pydantic import BaseModel, Field\n",
    "\n",
    "class Recipe(BaseModel):\n",
    "    name: str = Field(description=\"料理の名前\")\n",
    "    ingredients: list[str] = Field(description=\"料理の材料\")\n",
    "    steps: list[str] = Field(description=\"料理の作り方\")\n",
    "\n",
    "output_parser = PydanticOutputParser(pydantic_object=Recipe)"
   ]
  },
  {
   "cell_type": "code",
   "execution_count": 16,
   "metadata": {},
   "outputs": [
    {
     "name": "stdout",
     "output_type": "stream",
     "text": [
      "name='カレー' ingredients=['鶏肉 (または牛肉、豚肉)', '玉ねぎ', 'にんじん', 'じゃがいも', 'カレールー', '水', '塩', '胡椒', 'サラダ油'] steps=['玉ねぎを薄切りにし、にんじんとじゃがいもを一口大に切る。', '鍋にサラダ油を熱し、玉ねぎを炒めて透明になるまで炒める。', '鶏肉を加え、表面が白くなるまで炒める。', 'にんじんとじゃがいもを加え、全体が混ざるように炒める。', '水を加え、煮立ったらアクを取り除く。', '蓋をして中火で20分ほど煮る。', 'カレールーを加え、溶けるまで混ぜながら煮る。', '塩と胡椒で味を調え、さらに10分煮込んで完成。']\n"
     ]
    }
   ],
   "source": [
    "from langchain_core.prompts import ChatPromptTemplate\n",
    "from langchain_openai import ChatOpenAI\n",
    "\n",
    "prompt = ChatPromptTemplate.from_messages(\n",
    "    [\n",
    "        (\"system\", \"ユーザが入力した料理のレシピを考えてください。\\n\\n{format_instructions}\"),\n",
    "        (\"human\", \"{dish}\")\n",
    "    ]\n",
    ")\n",
    "\n",
    "prompt_with_format_instructions = prompt.partial(format_instructions=output_parser.get_format_instructions())\n",
    "model = ChatOpenAI(\n",
    "    api_key=OPENAI_API_KEY,\n",
    "    model=\"gpt-4o-mini\",\n",
    "    temperature=0.7\n",
    ")\n",
    "\n",
    "\n",
    "chain = prompt_with_format_instructions | model | output_parser\n",
    "ai_message = chain.invoke({\"dish\": \"カレー\"})\n",
    "print(ai_message)"
   ]
  },
  {
   "cell_type": "code",
   "execution_count": null,
   "metadata": {},
   "outputs": [],
   "source": []
  },
  {
   "cell_type": "code",
   "execution_count": null,
   "metadata": {},
   "outputs": [],
   "source": []
  }
 ],
 "metadata": {
  "kernelspec": {
   "display_name": ".venv",
   "language": "python",
   "name": "python3"
  },
  "language_info": {
   "codemirror_mode": {
    "name": "ipython",
    "version": 3
   },
   "file_extension": ".py",
   "mimetype": "text/x-python",
   "name": "python",
   "nbconvert_exporter": "python",
   "pygments_lexer": "ipython3",
   "version": "3.13.2"
  }
 },
 "nbformat": 4,
 "nbformat_minor": 2
}
